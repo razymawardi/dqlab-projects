{
 "cells": [
  {
   "cell_type": "markdown",
   "metadata": {
    "colab_type": "text",
    "id": "view-in-github"
   },
   "source": [
    "<a href=\"https://colab.research.google.com/github/razymawardi/portfolio/blob/main/Mini_Project_Data_Manipulation_with_Pandas_Part_1.ipynb\" target=\"_parent\"><img src=\"https://colab.research.google.com/assets/colab-badge.svg\" alt=\"Open In Colab\"/></a>"
   ]
  },
  {
   "cell_type": "markdown",
   "metadata": {
    "id": "CeeDE0pM5MPx"
   },
   "source": [
    "# **Mini Project - Data Manipulation with Pandas Part 1**"
   ]
  },
  {
   "cell_type": "markdown",
   "metadata": {
    "id": "a9FomOxs5TwM"
   },
   "source": [
    "# **Pendahuluan**"
   ]
  },
  {
   "cell_type": "markdown",
   "metadata": {
    "id": "4wTgrePD5k-g"
   },
   "source": [
    "Pada proyek kali ini kita akan melakukan proses ETL yang biasanya dilakukan sebelum analisis data. Proses ini dilakukan karena biasanya data yang dibutuhkan masih belum bersih, sehingga tidak bisa dilakukan analisis lebih lanjut. Untuk itu proses ini menjadi sangat penting karena jika tidak dilakukan dengan baik maka akan berpengaruh buruk pada hasil analisis yang kita lakukan.\n",
    "\n",
    "Data yang digunakan adalah data perusahaan ritel fiktif DQLab yang diantaranya berisi kumpulan data untuk setiap kota dan provinsi, tanggal order, customer, jenis order terkait brand, product, quantity dan item price serta GMV/Gross Merchandise Volume (total price)."
   ]
  },
  {
   "cell_type": "markdown",
   "metadata": {
    "id": "9iA0sq8Q5iOR"
   },
   "source": [
    "Diberikan dataset *‘retail_raw_test.csv’*, berikut adalah langkah pengerjaan yang akan kita lakukan dalam proyek kali ini:\n",
    "\n",
    "1. Baca dataset\n",
    "2. Tipe data diubah menjadi tipe yang seharusnya\n",
    "  * customer_id dari string ke int64,\n",
    "  * quantity dari string ke int64,\n",
    "  * item_price dari string ke int64\n",
    "3. transform product_value supaya bentuknya seragam dengan format PXXXX, assign ke kolom baru \"product_id\", dan drop kolom \"product_value\", jika terdapat nan gantilah dengan \"unknown\".\n",
    "4. tranform order_date menjadi value dengan format YYYY-mm-dd\n",
    "5. cek data hilang dari tiap kolom dan kemudian isi missing value\n",
    "  * di brand dengan \"no_brand\", dan\n",
    "  * cek dulu bagaimana missing value di city & province - isi missing value di city dan province dengan \"unknown\"\n",
    "6. create column city/province dari gabungan city & province\n",
    "7. membuat index berdasarkan city_provice, order_date, customer_id, order_id, 8 product_id (cek index)\n",
    "8. membuat kolom \"total_price\" sebagai hasil perkalian quantity dengan item_price\n",
    "9. slice data hanya untuk Jan 2019\n",
    "\n",
    "**Notes** :\n",
    "\n",
    "Dataset : https://dqlab-dataset.s3-ap-southeast-1.amazonaws.com/retail_raw_test.csv\n"
   ]
  },
  {
   "cell_type": "markdown",
   "metadata": {
    "id": "bXVKXHBUkMkO"
   },
   "source": [
    "# **1. Baca dan simpan dataset**"
   ]
  },
  {
   "cell_type": "code",
   "execution_count": 1,
   "metadata": {
    "colab": {
     "base_uri": "https://localhost:8080/"
    },
    "id": "vFWl2e4K5REj",
    "outputId": "d1772a93-b140-4b94-d26d-df230aef1844"
   },
   "outputs": [],
   "source": [
    "import pandas as pd"
   ]
  },
  {
   "cell_type": "code",
   "execution_count": 2,
   "metadata": {
    "colab": {
     "base_uri": "https://localhost:8080/"
    },
    "id": "vFWl2e4K5REj",
    "outputId": "d1772a93-b140-4b94-d26d-df230aef1844"
   },
   "outputs": [],
   "source": [
    "# # 0. Mengambil dan menyimpan dataset (Optional, jika file \"retail_raw_test.csv\" sudah didownload maka langkah ini bisa dilewati)\n",
    "# print(\"[0] SIMPAN DATASET\")\n",
    "# data = pd.read_csv(\"https://dqlab-dataset.s3-ap-southeast-1.amazonaws.com/retail_raw_test.csv\", low_memory=False)\n",
    "# print(data.head(3))\n",
    "# data.to_csv('retail_raw_test.csv')"
   ]
  },
  {
   "cell_type": "code",
   "execution_count": 3,
   "metadata": {
    "colab": {
     "base_uri": "https://localhost:8080/"
    },
    "id": "vFWl2e4K5REj",
    "outputId": "d1772a93-b140-4b94-d26d-df230aef1844"
   },
   "outputs": [
    {
     "name": "stdout",
     "output_type": "stream",
     "text": [
      "[1] BACA DATASET\n",
      "    Dataset:\n",
      "    Unnamed: 0  order_id    order_date customer_id           city     province  \\\n",
      "0           0   1730350  Dec 11, 2019      '13447      Surakarta  Jawa Tengah   \n",
      "1           1   1677490  Jul 31, 2019          '0            NaN          NaN   \n",
      "2           2   1704211  Oct 18, 2019      '16128  Jakarta Pusat  DKI Jakarta   \n",
      "3           3   1679695  Aug 07, 2019      '16225     Yogyakarta   Yogyakarta   \n",
      "4           4   1679080  Aug 05, 2019          '0            NaN          NaN   \n",
      "\n",
      "     brand quantity item_price  product_value  \n",
      "0  BRAND_F      '24    '113000         1374.0  \n",
      "1  BRAND_F       '1   '1164000         1370.0  \n",
      "2  BRAND_H      '12    '747000         1679.0  \n",
      "3  BRAND_H       '6    '590000         1708.0  \n",
      "4  BRAND_E       '2    '740000         1201.0  \n",
      "<class 'pandas.core.frame.DataFrame'>\n",
      "RangeIndex: 5000 entries, 0 to 4999\n",
      "Data columns (total 10 columns):\n",
      " #   Column         Non-Null Count  Dtype  \n",
      "---  ------         --------------  -----  \n",
      " 0   Unnamed: 0     5000 non-null   int64  \n",
      " 1   order_id       5000 non-null   int64  \n",
      " 2   order_date     5000 non-null   object \n",
      " 3   customer_id    5000 non-null   object \n",
      " 4   city           3802 non-null   object \n",
      " 5   province       3802 non-null   object \n",
      " 6   brand          4995 non-null   object \n",
      " 7   quantity       5000 non-null   object \n",
      " 8   item_price     5000 non-null   object \n",
      " 9   product_value  4995 non-null   float64\n",
      "dtypes: float64(1), int64(2), object(7)\n",
      "memory usage: 390.8+ KB\n",
      "    Info:\n",
      " None\n"
     ]
    }
   ],
   "source": [
    "import pandas as pd\n",
    "# 1. Baca dataset\n",
    "print(\"[1] BACA DATASET\")\n",
    "df = pd.read_csv(\"retail_raw_test.csv\")\n",
    "print(\"    Dataset:\\n\", df.head())\n",
    "print(\"    Info:\\n\", df.info())"
   ]
  },
  {
   "cell_type": "markdown",
   "metadata": {
    "id": "ywdWNaAgkm1P"
   },
   "source": [
    "# **2. Ubah tipe data**"
   ]
  },
  {
   "cell_type": "code",
   "execution_count": 4,
   "metadata": {
    "colab": {
     "base_uri": "https://localhost:8080/"
    },
    "id": "gIKC5nbT7YY5",
    "outputId": "05038031-7b26-4e5c-8aac-27bc07b8d213"
   },
   "outputs": [
    {
     "name": "stdout",
     "output_type": "stream",
     "text": [
      "\n",
      "[2] UBAH TIPE DATA\n",
      "    Tipe data:\n",
      " Unnamed: 0         int64\n",
      "order_id           int64\n",
      "order_date        object\n",
      "customer_id        int64\n",
      "city              object\n",
      "province          object\n",
      "brand             object\n",
      "quantity           int64\n",
      "item_price         int64\n",
      "product_value    float64\n",
      "dtype: object\n"
     ]
    }
   ],
   "source": [
    "# 2. Ubah tipe data\n",
    "print(\"\\n[2] UBAH TIPE DATA\")\n",
    "df[\"customer_id\"] = df[\"customer_id\"].apply(lambda x: x.split(\"'\")[1]).astype(\"int64\")\n",
    "df[\"quantity\"] = df[\"quantity\"].apply(lambda x: x.split(\"'\")[1]).astype(\"int64\")\n",
    "df[\"item_price\"] = df[\"item_price\"].apply(lambda x: x.split(\"'\")[1]).astype(\"int64\")\n",
    "print(\"    Tipe data:\\n\", df.dtypes)"
   ]
  },
  {
   "cell_type": "code",
   "execution_count": 5,
   "metadata": {
    "colab": {
     "base_uri": "https://localhost:8080/"
    },
    "id": "A8_6_dNf7fWM",
    "outputId": "12d77e7d-ef45-4d36-843b-be8ce6493379"
   },
   "outputs": [
    {
     "name": "stdout",
     "output_type": "stream",
     "text": [
      "['Surakarta' nan 'Jakarta Pusat' 'Yogyakarta' 'Denpasar' 'Tangerang'\n",
      " 'Bandung' 'Jakarta Selatan' 'Depok' 'Jakarta Utara' 'Palangkaraya'\n",
      " 'unknown' 'Bogor' 'Purwokerto' 'Pekanbaru' 'Bekasi' 'Bandar Lampung'\n",
      " 'Makassar' 'Jakarta Timur' 'Semarang' 'Jakarta Barat' 'Lubuklinggau'\n",
      " 'Tebing Tinggi' 'Surabaya' 'Malang' 'Bukittinggi' 'Manado' 'Ubud' 'Palu'\n",
      " 'Medan' 'Palembang' 'Banjarmasin' 'Banda Aceh' 'Jambi' 'Pangkalpinang'\n",
      " 'Padang' 'Binjai' 'Pematang Siantar' 'Pontianak']\n",
      "['Jawa Tengah' nan 'DKI Jakarta' 'Yogyakarta' 'Bali' 'Banten' 'Jawa Barat'\n",
      " 'Kalimantan Tengah' 'unknown' 'Riau' 'Lampung' 'Sulawesi Selatan'\n",
      " 'Sumatra Selatan' 'Sumatra Utara' 'Jawa Timur' 'Sumatra Barat'\n",
      " 'Sulawesi Utara' 'Sulawesi Tengah' 'Kalimantan Selatan' 'Aceh' 'Jambi'\n",
      " 'Bangka Belitung' 'Kalimantan Barat']\n"
     ]
    }
   ],
   "source": [
    "print(df.city.unique())\n",
    "print(df.province.unique())"
   ]
  },
  {
   "cell_type": "markdown",
   "metadata": {
    "id": "jvcv8lJCk2V4"
   },
   "source": [
    "# **3. Transform \"product_value\" ke format \"PXXXX\"**"
   ]
  },
  {
   "cell_type": "code",
   "execution_count": 6,
   "metadata": {
    "colab": {
     "base_uri": "https://localhost:8080/"
    },
    "id": "sBuO4LTz80Wr",
    "outputId": "b550ba45-625c-458f-b5c6-06cbda55a57e"
   },
   "outputs": [
    {
     "name": "stdout",
     "output_type": "stream",
     "text": [
      "\n",
      "[3] TRANSFORM product_value MENJADI product_id\n",
      "   Unnamed: 0  order_id    order_date  customer_id           city  \\\n",
      "0           0   1730350  Dec 11, 2019        13447      Surakarta   \n",
      "1           1   1677490  Jul 31, 2019            0            NaN   \n",
      "2           2   1704211  Oct 18, 2019        16128  Jakarta Pusat   \n",
      "3           3   1679695  Aug 07, 2019        16225     Yogyakarta   \n",
      "4           4   1679080  Aug 05, 2019            0            NaN   \n",
      "\n",
      "      province    brand  quantity  item_price product_id  \n",
      "0  Jawa Tengah  BRAND_F        24      113000      P1374  \n",
      "1          NaN  BRAND_F         1     1164000      P1370  \n",
      "2  DKI Jakarta  BRAND_H        12      747000      P1679  \n",
      "3   Yogyakarta  BRAND_H         6      590000      P1708  \n",
      "4          NaN  BRAND_E         2      740000      P1201  \n"
     ]
    }
   ],
   "source": [
    "# 3. Transform \"product_value\" supaya bentuknya seragam dengan format \"PXXXX\", \n",
    "# assign ke kolom baru \"product_id\", dan drop kolom \"product_value\", \n",
    "# jika terdapat nan gantilah dengan \"unknown\"\n",
    "\n",
    "print(\"\\n[3] TRANSFORM product_value MENJADI product_id\")\n",
    "# Buat fungsi\n",
    "import math\n",
    "def impute_product_value(val):\n",
    "    if math.isnan(val):\n",
    "        return \"unknown\"\n",
    "    else:\n",
    "        return \"P\" + f\"{str(val).split('.')[0]:0>4}\"\n",
    "# Buat kolom \"product_id\"\n",
    "df[\"product_id\"] = df[\"product_value\"].apply(lambda x: impute_product_value(x))\n",
    "# Hapus kolom \"product_value\"\n",
    "df.drop([\"product_value\"], axis=1, inplace=True)\n",
    "# Cetak 5 data teratas\n",
    "print(df.head())"
   ]
  },
  {
   "cell_type": "markdown",
   "metadata": {
    "id": "ZurW65mhlKCV"
   },
   "source": [
    "# **4. Tranform order_date menjadi value dengan format \"YYYY-mm-dd\"**"
   ]
  },
  {
   "cell_type": "code",
   "execution_count": 7,
   "metadata": {
    "colab": {
     "base_uri": "https://localhost:8080/"
    },
    "id": "ZmVTO2-arfUk",
    "outputId": "745054f5-d169-4a2d-df29-e8e259ec5187"
   },
   "outputs": [
    {
     "name": "stdout",
     "output_type": "stream",
     "text": [
      "\n",
      "[4] TRANSFORM order_date MENJADI FORMAT YYYY-mm-dd\n",
      "    Tipe data:\n",
      " Unnamed: 0              int64\n",
      "order_id                int64\n",
      "order_date     datetime64[ns]\n",
      "customer_id             int64\n",
      "city                   object\n",
      "province               object\n",
      "brand                  object\n",
      "quantity                int64\n",
      "item_price              int64\n",
      "product_id             object\n",
      "dtype: object\n"
     ]
    }
   ],
   "source": [
    "# 4. Tranform order_date menjadi value dengan format \"YYYY-mm-dd\"\n",
    "print(\"\\n[4] TRANSFORM order_date MENJADI FORMAT YYYY-mm-dd\")\n",
    "months_dict = {\n",
    "   \"Jan\":\"01\",\n",
    "   \"Feb\":\"02\",\n",
    "   \"Mar\":\"03\",\n",
    "   \"Apr\":\"04\",\n",
    "   \"May\":\"05\",\n",
    "   \"Jun\":\"06\",\n",
    "   \"Jul\":\"07\",\n",
    "   \"Aug\":\"08\",\n",
    "   \"Sep\":\"09\",\n",
    "   \"Oct\":\"10\",\n",
    "   \"Nov\":\"11\",\n",
    "   \"Dec\":\"12\"\n",
    "}\n",
    "df[\"order_date\"] = pd.to_datetime(df[\"order_date\"].apply(lambda x: str(x)[-4:] + \"-\" + months_dict[str(x)[:3]] + \"-\" + str(x)[4:7]))\n",
    "print(\"    Tipe data:\\n\", df.dtypes)"
   ]
  },
  {
   "cell_type": "markdown",
   "metadata": {
    "id": "hJFVwzSOlWAo"
   },
   "source": [
    "# **5. Mengatasi data yang hilang di beberapa kolom**"
   ]
  },
  {
   "cell_type": "code",
   "execution_count": 8,
   "metadata": {
    "colab": {
     "base_uri": "https://localhost:8080/"
    },
    "id": "8BSlACuYUic9",
    "outputId": "c93e7c1a-9302-4c3d-a941-1c62439c131b"
   },
   "outputs": [
    {
     "name": "stdout",
     "output_type": "stream",
     "text": [
      "\n",
      "[5] HANDLING MISSING VALUE\n",
      "<class 'pandas.core.frame.DataFrame'>\n",
      "RangeIndex: 5000 entries, 0 to 4999\n",
      "Data columns (total 10 columns):\n",
      " #   Column       Non-Null Count  Dtype         \n",
      "---  ------       --------------  -----         \n",
      " 0   Unnamed: 0   5000 non-null   int64         \n",
      " 1   order_id     5000 non-null   int64         \n",
      " 2   order_date   5000 non-null   datetime64[ns]\n",
      " 3   customer_id  5000 non-null   int64         \n",
      " 4   city         5000 non-null   object        \n",
      " 5   province     5000 non-null   object        \n",
      " 6   brand        5000 non-null   object        \n",
      " 7   quantity     5000 non-null   int64         \n",
      " 8   item_price   5000 non-null   int64         \n",
      " 9   product_id   5000 non-null   object        \n",
      "dtypes: datetime64[ns](1), int64(5), object(4)\n",
      "memory usage: 390.8+ KB\n",
      "    Info:\n",
      " None\n"
     ]
    }
   ],
   "source": [
    "# 5. Mengatasi data yang hilang di beberapa kolom\n",
    "print(\"\\n[5] HANDLING MISSING VALUE\")\n",
    "# Kolom \"city\" dan \"province\" masih memiliki missing value, nilai yang hilang di kedua kolom ini diisi saja dengan \"unknown\"\n",
    "df[[\"city\",\"province\"]] = df[[\"city\",\"province\"]].fillna(\"unknown\")\n",
    "# Kolom brand juga masih memiliki missing value, Ganti value NaN menjadi \"no_brand\"\n",
    "df[\"brand\"] = df[\"brand\"].fillna(\"no_brand\")\n",
    "# Cek apakah masih terdapat missing value di seluruh kolom \n",
    "print(\"    Info:\\n\", df.info())\n"
   ]
  },
  {
   "cell_type": "markdown",
   "metadata": {
    "id": "MvyjfBEdlcNO"
   },
   "source": [
    "# **6. Membuat kolom baru \"city/province\"**"
   ]
  },
  {
   "cell_type": "code",
   "execution_count": 9,
   "metadata": {
    "colab": {
     "base_uri": "https://localhost:8080/"
    },
    "id": "bePhtb2vrnmL",
    "outputId": "c0bb8db2-2ea1-4239-dfb9-420222681297"
   },
   "outputs": [
    {
     "name": "stdout",
     "output_type": "stream",
     "text": [
      "\n",
      "[6] MEMBUAT KOLOM BARU city/province\n",
      "   Unnamed: 0  order_id order_date  customer_id    brand  quantity  \\\n",
      "0           0   1730350 2019-12-11        13447  BRAND_F        24   \n",
      "1           1   1677490 2019-07-31            0  BRAND_F         1   \n",
      "2           2   1704211 2019-10-18        16128  BRAND_H        12   \n",
      "3           3   1679695 2019-08-07        16225  BRAND_H         6   \n",
      "4           4   1679080 2019-08-05            0  BRAND_E         2   \n",
      "\n",
      "   item_price product_id              city/province  \n",
      "0      113000      P1374      Surakarta/Jawa Tengah  \n",
      "1     1164000      P1370            unknown/unknown  \n",
      "2      747000      P1679  Jakarta Pusat/DKI Jakarta  \n",
      "3      590000      P1708      Yogyakarta/Yogyakarta  \n",
      "4      740000      P1201            unknown/unknown  \n"
     ]
    }
   ],
   "source": [
    "# 6. Membuat kolom baru \"city/province\" dengan menggabungkan kolom \"city\" dan kolom \"province\" dan delete kolom asalnya\n",
    "print(\"\\n[6] MEMBUAT KOLOM BARU city/province\")\n",
    "df[\"city/province\"] = df[\"city\"] + \"/\" + df[\"province\"]\n",
    "# drop kolom \"city\" dan \"province\" karena telah digabungkan\n",
    "df.drop([\"city\",\"province\"], axis=1, inplace=True)\n",
    "# Cetak 5 data teratas\n",
    "print(df.head())"
   ]
  },
  {
   "cell_type": "markdown",
   "metadata": {
    "id": "dXYWcJCxlmNx"
   },
   "source": [
    "# **7. Membuat hierarchical index**"
   ]
  },
  {
   "cell_type": "code",
   "execution_count": 10,
   "metadata": {
    "colab": {
     "base_uri": "https://localhost:8080/"
    },
    "id": "qGQcX3FHs6eh",
    "outputId": "50271a8b-e446-4900-bcce-ca431d8db911"
   },
   "outputs": [
    {
     "name": "stdout",
     "output_type": "stream",
     "text": [
      "\n",
      "[7] MEMBUAT HIERACHICAL INDEX\n",
      "                                                                   Unnamed: 0  \\\n",
      "city/province          order_date customer_id order_id product_id               \n",
      "Banda Aceh/Aceh        2019-04-17 12818       1642480  P1936             3957   \n",
      "                       2019-11-12 12360       1715116  P0758             1445   \n",
      "                                                       P3042              840   \n",
      "                       2019-12-09 12374       1729036  P1660             1810   \n",
      "Bandar Lampung/Lampung 2019-01-15 12515       1619257  P0628             4514   \n",
      "\n",
      "                                                                     brand  \\\n",
      "city/province          order_date customer_id order_id product_id            \n",
      "Banda Aceh/Aceh        2019-04-17 12818       1642480  P1936       BRAND_K   \n",
      "                       2019-11-12 12360       1715116  P0758       BRAND_C   \n",
      "                                                       P3042       BRAND_R   \n",
      "                       2019-12-09 12374       1729036  P1660       BRAND_G   \n",
      "Bandar Lampung/Lampung 2019-01-15 12515       1619257  P0628       BRAND_C   \n",
      "\n",
      "                                                                   quantity  \\\n",
      "city/province          order_date customer_id order_id product_id             \n",
      "Banda Aceh/Aceh        2019-04-17 12818       1642480  P1936             24   \n",
      "                       2019-11-12 12360       1715116  P0758              8   \n",
      "                                                       P3042             12   \n",
      "                       2019-12-09 12374       1729036  P1660              4   \n",
      "Bandar Lampung/Lampung 2019-01-15 12515       1619257  P0628             12   \n",
      "\n",
      "                                                                   item_price  \n",
      "city/province          order_date customer_id order_id product_id              \n",
      "Banda Aceh/Aceh        2019-04-17 12818       1642480  P1936           450000  \n",
      "                       2019-11-12 12360       1715116  P0758           695000  \n",
      "                                                       P3042           310000  \n",
      "                       2019-12-09 12374       1729036  P1660          2795000  \n",
      "Bandar Lampung/Lampung 2019-01-15 12515       1619257  P0628           695000  \n"
     ]
    }
   ],
   "source": [
    "# 7. Membuat hierarchical index yang terdiri dari kolom \"city/province\", \"order_date\", \"customer_id\", \"order_id\", \"product_id\"\n",
    "print(\"\\n[7] MEMBUAT HIERACHICAL INDEX\")\n",
    "df = df.set_index([\"city/province\",\"order_date\",\"customer_id\",\"order_id\",\"product_id\"])\n",
    "# urutkanlah berdasarkan index yang baru\n",
    "df = df.sort_index()\n",
    "# Cetak 5 data teratas\n",
    "print(df.head())"
   ]
  },
  {
   "cell_type": "code",
   "execution_count": 11,
   "metadata": {
    "colab": {
     "base_uri": "https://localhost:8080/"
    },
    "id": "fHVILtsHteb8",
    "outputId": "c37fc01a-502e-4793-a5f4-ba6c06767160"
   },
   "outputs": [
    {
     "data": {
      "text/plain": [
       "Index(['Unnamed: 0', 'brand', 'quantity', 'item_price'], dtype='object')"
      ]
     },
     "execution_count": 11,
     "metadata": {},
     "output_type": "execute_result"
    }
   ],
   "source": [
    "df.columns"
   ]
  },
  {
   "cell_type": "markdown",
   "metadata": {
    "id": "mPEqxvMklstI"
   },
   "source": [
    "# **8. Membuat kolom \"total_price\"**"
   ]
  },
  {
   "cell_type": "code",
   "execution_count": 12,
   "metadata": {
    "colab": {
     "base_uri": "https://localhost:8080/"
    },
    "id": "YyMfP6Mbt3o7",
    "outputId": "3e18aa8a-060a-4884-aa72-5bf771166c76"
   },
   "outputs": [
    {
     "name": "stdout",
     "output_type": "stream",
     "text": [
      "\n",
      "[8] MEMBUAT KOLOM total_price\n",
      "                                                                   Unnamed: 0  \\\n",
      "city/province          order_date customer_id order_id product_id               \n",
      "Banda Aceh/Aceh        2019-04-17 12818       1642480  P1936             3957   \n",
      "                       2019-11-12 12360       1715116  P0758             1445   \n",
      "                                                       P3042              840   \n",
      "                       2019-12-09 12374       1729036  P1660             1810   \n",
      "Bandar Lampung/Lampung 2019-01-15 12515       1619257  P0628             4514   \n",
      "\n",
      "                                                                     brand  \\\n",
      "city/province          order_date customer_id order_id product_id            \n",
      "Banda Aceh/Aceh        2019-04-17 12818       1642480  P1936       BRAND_K   \n",
      "                       2019-11-12 12360       1715116  P0758       BRAND_C   \n",
      "                                                       P3042       BRAND_R   \n",
      "                       2019-12-09 12374       1729036  P1660       BRAND_G   \n",
      "Bandar Lampung/Lampung 2019-01-15 12515       1619257  P0628       BRAND_C   \n",
      "\n",
      "                                                                   quantity  \\\n",
      "city/province          order_date customer_id order_id product_id             \n",
      "Banda Aceh/Aceh        2019-04-17 12818       1642480  P1936             24   \n",
      "                       2019-11-12 12360       1715116  P0758              8   \n",
      "                                                       P3042             12   \n",
      "                       2019-12-09 12374       1729036  P1660              4   \n",
      "Bandar Lampung/Lampung 2019-01-15 12515       1619257  P0628             12   \n",
      "\n",
      "                                                                   item_price  \\\n",
      "city/province          order_date customer_id order_id product_id               \n",
      "Banda Aceh/Aceh        2019-04-17 12818       1642480  P1936           450000   \n",
      "                       2019-11-12 12360       1715116  P0758           695000   \n",
      "                                                       P3042           310000   \n",
      "                       2019-12-09 12374       1729036  P1660          2795000   \n",
      "Bandar Lampung/Lampung 2019-01-15 12515       1619257  P0628           695000   \n",
      "\n",
      "                                                                   total_price  \n",
      "city/province          order_date customer_id order_id product_id               \n",
      "Banda Aceh/Aceh        2019-04-17 12818       1642480  P1936          10800000  \n",
      "                       2019-11-12 12360       1715116  P0758           5560000  \n",
      "                                                       P3042           3720000  \n",
      "                       2019-12-09 12374       1729036  P1660          11180000  \n",
      "Bandar Lampung/Lampung 2019-01-15 12515       1619257  P0628           8340000  \n"
     ]
    }
   ],
   "source": [
    "# 8. Membuat kolom \"total_price\" yang formula nya perkalian antara kolom \"quantity\" dan kolom \"item_price\"\n",
    "print(\"\\n[8] MEMBUAT KOLOM total_price\")\n",
    "df[\"total_price\"] = df[\"quantity\"] * df[\"item_price\"]\n",
    "# Cetak 5 data teratas\n",
    "print(df.head())"
   ]
  },
  {
   "cell_type": "markdown",
   "metadata": {
    "id": "CswYtOXKl22P"
   },
   "source": [
    "# **9. Slice dataset agar hanya terdapat data bulan Januari 2019**"
   ]
  },
  {
   "cell_type": "code",
   "execution_count": 13,
   "metadata": {
    "colab": {
     "base_uri": "https://localhost:8080/",
     "height": 518
    },
    "id": "fkBZXbxvu05m",
    "outputId": "671a863b-5764-4833-9967-8d50eddc2509"
   },
   "outputs": [
    {
     "name": "stdout",
     "output_type": "stream",
     "text": [
      "\n",
      "[9] SLICE DATASET UNTUK BULAN JANUARI 2019 SAJA\n",
      "Dataset akhir:\n",
      "\n"
     ]
    },
    {
     "data": {
      "text/html": [
       "<div>\n",
       "<style scoped>\n",
       "    .dataframe tbody tr th:only-of-type {\n",
       "        vertical-align: middle;\n",
       "    }\n",
       "\n",
       "    .dataframe tbody tr th {\n",
       "        vertical-align: top;\n",
       "    }\n",
       "\n",
       "    .dataframe thead th {\n",
       "        text-align: right;\n",
       "    }\n",
       "</style>\n",
       "<table border=\"1\" class=\"dataframe\">\n",
       "  <thead>\n",
       "    <tr style=\"text-align: right;\">\n",
       "      <th></th>\n",
       "      <th></th>\n",
       "      <th></th>\n",
       "      <th></th>\n",
       "      <th></th>\n",
       "      <th>Unnamed: 0</th>\n",
       "      <th>brand</th>\n",
       "      <th>quantity</th>\n",
       "      <th>item_price</th>\n",
       "      <th>total_price</th>\n",
       "    </tr>\n",
       "    <tr>\n",
       "      <th>city/province</th>\n",
       "      <th>order_date</th>\n",
       "      <th>customer_id</th>\n",
       "      <th>order_id</th>\n",
       "      <th>product_id</th>\n",
       "      <th></th>\n",
       "      <th></th>\n",
       "      <th></th>\n",
       "      <th></th>\n",
       "      <th></th>\n",
       "    </tr>\n",
       "  </thead>\n",
       "  <tbody>\n",
       "    <tr>\n",
       "      <th>Bandar Lampung/Lampung</th>\n",
       "      <th>2019-01-15</th>\n",
       "      <th>12515</th>\n",
       "      <th>1619257</th>\n",
       "      <th>P0628</th>\n",
       "      <td>4514</td>\n",
       "      <td>BRAND_C</td>\n",
       "      <td>12</td>\n",
       "      <td>695000</td>\n",
       "      <td>8340000</td>\n",
       "    </tr>\n",
       "    <tr>\n",
       "      <th rowspan=\"4\" valign=\"top\">Bandung/Jawa Barat</th>\n",
       "      <th>2019-01-09</th>\n",
       "      <th>16134</th>\n",
       "      <th>1617055</th>\n",
       "      <th>P1597</th>\n",
       "      <td>1744</td>\n",
       "      <td>BRAND_G</td>\n",
       "      <td>9</td>\n",
       "      <td>520000</td>\n",
       "      <td>4680000</td>\n",
       "    </tr>\n",
       "    <tr>\n",
       "      <th>2019-01-10</th>\n",
       "      <th>17392</th>\n",
       "      <th>1617952</th>\n",
       "      <th>P2137</th>\n",
       "      <td>1418</td>\n",
       "      <td>BRAND_M</td>\n",
       "      <td>2</td>\n",
       "      <td>1062000</td>\n",
       "      <td>2124000</td>\n",
       "    </tr>\n",
       "    <tr>\n",
       "      <th>2019-01-14</th>\n",
       "      <th>15527</th>\n",
       "      <th>1618828</th>\n",
       "      <th>P3115</th>\n",
       "      <td>3890</td>\n",
       "      <td>BRAND_S</td>\n",
       "      <td>1</td>\n",
       "      <td>1045000</td>\n",
       "      <td>1045000</td>\n",
       "    </tr>\n",
       "    <tr>\n",
       "      <th>2019-01-29</th>\n",
       "      <th>13253</th>\n",
       "      <th>1620289</th>\n",
       "      <th>P0099</th>\n",
       "      <td>1788</td>\n",
       "      <td>BRAND_A</td>\n",
       "      <td>12</td>\n",
       "      <td>450000</td>\n",
       "      <td>5400000</td>\n",
       "    </tr>\n",
       "    <tr>\n",
       "      <th>...</th>\n",
       "      <th>...</th>\n",
       "      <th>...</th>\n",
       "      <th>...</th>\n",
       "      <th>...</th>\n",
       "      <td>...</td>\n",
       "      <td>...</td>\n",
       "      <td>...</td>\n",
       "      <td>...</td>\n",
       "      <td>...</td>\n",
       "    </tr>\n",
       "    <tr>\n",
       "      <th rowspan=\"5\" valign=\"top\">unknown/unknown</th>\n",
       "      <th rowspan=\"2\" valign=\"top\">2019-01-30</th>\n",
       "      <th rowspan=\"2\" valign=\"top\">0</th>\n",
       "      <th rowspan=\"2\" valign=\"top\">1620766</th>\n",
       "      <th>P3070</th>\n",
       "      <td>312</td>\n",
       "      <td>BRAND_R</td>\n",
       "      <td>1</td>\n",
       "      <td>593000</td>\n",
       "      <td>593000</td>\n",
       "    </tr>\n",
       "    <tr>\n",
       "      <th>P3483</th>\n",
       "      <td>3063</td>\n",
       "      <td>BRAND_S</td>\n",
       "      <td>3</td>\n",
       "      <td>593000</td>\n",
       "      <td>1779000</td>\n",
       "    </tr>\n",
       "    <tr>\n",
       "      <th rowspan=\"3\" valign=\"top\">2019-01-31</th>\n",
       "      <th rowspan=\"3\" valign=\"top\">0</th>\n",
       "      <th rowspan=\"3\" valign=\"top\">1621057</th>\n",
       "      <th>P1298</th>\n",
       "      <td>549</td>\n",
       "      <td>BRAND_F</td>\n",
       "      <td>1</td>\n",
       "      <td>296000</td>\n",
       "      <td>296000</td>\n",
       "    </tr>\n",
       "    <tr>\n",
       "      <th>P1773</th>\n",
       "      <td>4105</td>\n",
       "      <td>BRAND_H</td>\n",
       "      <td>5</td>\n",
       "      <td>593000</td>\n",
       "      <td>2965000</td>\n",
       "    </tr>\n",
       "    <tr>\n",
       "      <th>P2877</th>\n",
       "      <td>4083</td>\n",
       "      <td>BRAND_R</td>\n",
       "      <td>1</td>\n",
       "      <td>1486000</td>\n",
       "      <td>1486000</td>\n",
       "    </tr>\n",
       "  </tbody>\n",
       "</table>\n",
       "<p>334 rows × 5 columns</p>\n",
       "</div>"
      ],
      "text/plain": [
       "                                                                   Unnamed: 0  \\\n",
       "city/province          order_date customer_id order_id product_id               \n",
       "Bandar Lampung/Lampung 2019-01-15 12515       1619257  P0628             4514   \n",
       "Bandung/Jawa Barat     2019-01-09 16134       1617055  P1597             1744   \n",
       "                       2019-01-10 17392       1617952  P2137             1418   \n",
       "                       2019-01-14 15527       1618828  P3115             3890   \n",
       "                       2019-01-29 13253       1620289  P0099             1788   \n",
       "...                                                                       ...   \n",
       "unknown/unknown        2019-01-30 0           1620766  P3070              312   \n",
       "                                                       P3483             3063   \n",
       "                       2019-01-31 0           1621057  P1298              549   \n",
       "                                                       P1773             4105   \n",
       "                                                       P2877             4083   \n",
       "\n",
       "                                                                     brand  \\\n",
       "city/province          order_date customer_id order_id product_id            \n",
       "Bandar Lampung/Lampung 2019-01-15 12515       1619257  P0628       BRAND_C   \n",
       "Bandung/Jawa Barat     2019-01-09 16134       1617055  P1597       BRAND_G   \n",
       "                       2019-01-10 17392       1617952  P2137       BRAND_M   \n",
       "                       2019-01-14 15527       1618828  P3115       BRAND_S   \n",
       "                       2019-01-29 13253       1620289  P0099       BRAND_A   \n",
       "...                                                                    ...   \n",
       "unknown/unknown        2019-01-30 0           1620766  P3070       BRAND_R   \n",
       "                                                       P3483       BRAND_S   \n",
       "                       2019-01-31 0           1621057  P1298       BRAND_F   \n",
       "                                                       P1773       BRAND_H   \n",
       "                                                       P2877       BRAND_R   \n",
       "\n",
       "                                                                   quantity  \\\n",
       "city/province          order_date customer_id order_id product_id             \n",
       "Bandar Lampung/Lampung 2019-01-15 12515       1619257  P0628             12   \n",
       "Bandung/Jawa Barat     2019-01-09 16134       1617055  P1597              9   \n",
       "                       2019-01-10 17392       1617952  P2137              2   \n",
       "                       2019-01-14 15527       1618828  P3115              1   \n",
       "                       2019-01-29 13253       1620289  P0099             12   \n",
       "...                                                                     ...   \n",
       "unknown/unknown        2019-01-30 0           1620766  P3070              1   \n",
       "                                                       P3483              3   \n",
       "                       2019-01-31 0           1621057  P1298              1   \n",
       "                                                       P1773              5   \n",
       "                                                       P2877              1   \n",
       "\n",
       "                                                                   item_price  \\\n",
       "city/province          order_date customer_id order_id product_id               \n",
       "Bandar Lampung/Lampung 2019-01-15 12515       1619257  P0628           695000   \n",
       "Bandung/Jawa Barat     2019-01-09 16134       1617055  P1597           520000   \n",
       "                       2019-01-10 17392       1617952  P2137          1062000   \n",
       "                       2019-01-14 15527       1618828  P3115          1045000   \n",
       "                       2019-01-29 13253       1620289  P0099           450000   \n",
       "...                                                                       ...   \n",
       "unknown/unknown        2019-01-30 0           1620766  P3070           593000   \n",
       "                                                       P3483           593000   \n",
       "                       2019-01-31 0           1621057  P1298           296000   \n",
       "                                                       P1773           593000   \n",
       "                                                       P2877          1486000   \n",
       "\n",
       "                                                                   total_price  \n",
       "city/province          order_date customer_id order_id product_id               \n",
       "Bandar Lampung/Lampung 2019-01-15 12515       1619257  P0628           8340000  \n",
       "Bandung/Jawa Barat     2019-01-09 16134       1617055  P1597           4680000  \n",
       "                       2019-01-10 17392       1617952  P2137           2124000  \n",
       "                       2019-01-14 15527       1618828  P3115           1045000  \n",
       "                       2019-01-29 13253       1620289  P0099           5400000  \n",
       "...                                                                        ...  \n",
       "unknown/unknown        2019-01-30 0           1620766  P3070            593000  \n",
       "                                                       P3483           1779000  \n",
       "                       2019-01-31 0           1621057  P1298            296000  \n",
       "                                                       P1773           2965000  \n",
       "                                                       P2877           1486000  \n",
       "\n",
       "[334 rows x 5 columns]"
      ]
     },
     "execution_count": 13,
     "metadata": {},
     "output_type": "execute_result"
    }
   ],
   "source": [
    "# 9. Slice dataset agar hanya terdapat data bulan Januari 2019\n",
    "print(\"\\n[9] SLICE DATASET UNTUK BULAN JANUARI 2019 SAJA\")\n",
    "idx = pd.IndexSlice\n",
    "df_jan2019 = df.loc[idx[:,\"2019-01-01\":\"2019-01-31\"], :]\n",
    "print(\"Dataset akhir:\\n\")\n",
    "df_jan2019\n",
    "\n"
   ]
  },
  {
   "cell_type": "markdown",
   "metadata": {
    "id": "muXNHDO588EK"
   },
   "source": [
    "# **Notes**"
   ]
  },
  {
   "cell_type": "markdown",
   "metadata": {
    "id": "IjwxTq0E844r"
   },
   "source": [
    "Dapat diperhatikan pada langkah ketiga, kita mencari tahu terlebih dahulu nilai null dan tidak langsung di convert ke string. Hal ini dilakukan setelah melihat hasil dari `df.info()` yang menunjukkan bahwa masih ada yang kosong di kolom **'product_value'** yang jika di convert to string, nantinya value `NaN` akan berubah menjadi string `‘nan’`, kemudian ketika di tambahkan 0 di depan dan `concat` dengan char `'P'`, hasilnya akan menjadi `'P0nan'` yang tentu saja akan terlihat sangat aneh.\n",
    "\n",
    " \n",
    "\n",
    "Berikutnya, pada langkah ke-4. Mengapa tidak langsung menggunakan kolom date yang sudah ada. Bukankah format waktunya sudah ideal?\n",
    "\n",
    "Jawabannya: Tidak semua format datetime yang ideal pada umumnya akan ideal di dalam pandas environment. jadi harus di-translate dulu menjadi format yang ideal di dalam pandas sehingga pandas bisa mengenali data tersebut.\n"
   ]
  },
  {
   "cell_type": "code",
   "execution_count": null,
   "metadata": {},
   "outputs": [],
   "source": []
  }
 ],
 "metadata": {
  "colab": {
   "authorship_tag": "ABX9TyNJpHDE2Czq+k4Aj5hywF79",
   "collapsed_sections": [],
   "include_colab_link": true,
   "name": "Mini Project - Data Manipulation with Pandas - Part 1.ipynb",
   "provenance": [],
   "toc_visible": true
  },
  "kernelspec": {
   "display_name": "Python 3",
   "language": "python",
   "name": "python3"
  },
  "language_info": {
   "codemirror_mode": {
    "name": "ipython",
    "version": 3
   },
   "file_extension": ".py",
   "mimetype": "text/x-python",
   "name": "python",
   "nbconvert_exporter": "python",
   "pygments_lexer": "ipython3",
   "version": "3.7.6"
  }
 },
 "nbformat": 4,
 "nbformat_minor": 1
}
